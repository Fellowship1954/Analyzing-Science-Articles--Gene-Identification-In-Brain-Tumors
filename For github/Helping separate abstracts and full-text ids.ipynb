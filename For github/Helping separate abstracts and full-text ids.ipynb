{
 "cells": [
  {
   "cell_type": "code",
   "execution_count": 3,
   "id": "ca7aef9c",
   "metadata": {},
   "outputs": [
    {
     "name": "stdout",
     "output_type": "stream",
     "text": [
      "Non-matching IDs: [29890272, 29802595, 28303493, 19322535, 25142793, 35067500]\n"
     ]
    }
   ],
   "source": [
    "# Function to find IDs that do not match between two lists\n",
    "def find_non_matching_ids(list1, list2):\n",
    "    # Convert the lists to sets for faster comparison\n",
    "    set1 = set(list1)\n",
    "    set2 = set(list2)\n",
    "\n",
    "    # Find the IDs that are in list1 but not in list2\n",
    "    non_matching_ids = set1 - set2\n",
    "\n",
    "    return list(non_matching_ids)\n",
    "\n",
    "# Example lists of IDs\n",
    "list1 = [19322535, 19664069,  21655075,  25142793,  26556212,  28303493,  29093006,  29545606,  29802595,  29890272,  34556677,  35064353,  35067500]\n",
    "list2 = [19664069, 21655075, 26556212, 29093006, 29545606, 34556677, 35064353]\n",
    "\n",
    "# Find non-matching IDs\n",
    "non_matching_ids = find_non_matching_ids(list1, list2)\n",
    "\n",
    "# Display the non-matching IDs\n",
    "print(\"Non-matching IDs:\", non_matching_ids)\n"
   ]
  },
  {
   "cell_type": "code",
   "execution_count": 6,
   "id": "61ea2e24",
   "metadata": {},
   "outputs": [
    {
     "name": "stdout",
     "output_type": "stream",
     "text": [
      "Non-matching IDs: []\n"
     ]
    }
   ],
   "source": [
    "# Function to find IDs that do not match between two lists\n",
    "def find_non_matching_ids(list1, list2):\n",
    "    # Convert the lists to sets for faster comparison\n",
    "    set1 = set(list1)\n",
    "    set2 = set(list2)\n",
    "\n",
    "    # Find the IDs that are in list1 but not in list2\n",
    "    non_matching_ids = set1 - set2\n",
    "\n",
    "    return list(non_matching_ids)\n",
    "\n",
    "# Example lists of IDs\n",
    "list1 = [29890272, 29802595, 28303493, 19322535, 25142793, 35067500]\n",
    "list2 = [19322535, 25142793, 28303493, 29802595, 29890272, 35067500]\n",
    "\n",
    "# Find non-matching IDs\n",
    "non_matching_ids = find_non_matching_ids(list1, list2)\n",
    "\n",
    "# Display the non-matching IDs\n",
    "print(\"Non-matching IDs:\", non_matching_ids)\n"
   ]
  },
  {
   "cell_type": "code",
   "execution_count": null,
   "id": "92d9bebd",
   "metadata": {},
   "outputs": [],
   "source": []
  },
  {
   "cell_type": "code",
   "execution_count": 48,
   "id": "ed08d983",
   "metadata": {
    "scrolled": false
   },
   "outputs": [
    {
     "name": "stdout",
     "output_type": "stream",
     "text": [
      "Length of main list 8\n",
      "Length of full-text 6\n",
      "length of non_matching_ids 2\n",
      "Non-matching IDs: [11837749, 7848917]\n"
     ]
    }
   ],
   "source": [
    "# Function to find IDs that do not match between two lists\n",
    "def find_non_matching_ids(list1, list2):\n",
    "    # Convert the lists to sets for faster comparison\n",
    "    set1 = set(list1)\n",
    "    set2 = set(list2)\n",
    "\n",
    "    # Find the IDs that are in list1 but not in list2\n",
    "    non_matching_ids = set1 - set2\n",
    "\n",
    "    return list(non_matching_ids)\n",
    "\n",
    "# Example lists of IDs\n",
    "main_list = [31090175, \n",
    "33476393, \n",
    "33972919, \n",
    "34570449, \n",
    "36717507,\n",
    "7848917,\n",
    "11837749, \n",
    "25464144]\n",
    "full_text = [25464144, 31090175, 33476393, 33972919, 34570449, 36717507]\n",
    "\n",
    "print(\"Length of main list\", len(main_list))\n",
    "\n",
    "print(\"Length of full-text\", len(full_text))\n",
    "\n",
    "# Find non-matching IDs\n",
    "non_matching_ids = find_non_matching_ids(main_list, full_text)\n",
    "print(\"length of non_matching_ids\", len(non_matching_ids))\n",
    "\n",
    "# Display the non-matching IDs\n",
    "print(\"Non-matching IDs:\", non_matching_ids)\n"
   ]
  }
 ],
 "metadata": {
  "kernelspec": {
   "display_name": "Python 3 (ipykernel)",
   "language": "python",
   "name": "python3"
  },
  "language_info": {
   "codemirror_mode": {
    "name": "ipython",
    "version": 3
   },
   "file_extension": ".py",
   "mimetype": "text/x-python",
   "name": "python",
   "nbconvert_exporter": "python",
   "pygments_lexer": "ipython3",
   "version": "3.9.13"
  }
 },
 "nbformat": 4,
 "nbformat_minor": 5
}
